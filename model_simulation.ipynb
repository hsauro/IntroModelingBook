{
 "cells": [
  {
   "cell_type": "markdown",
   "metadata": {},
   "source": [
    "# Chapter X: Running deterministic and stochastic simulations with Tellurium and libRoadRunner "
   ]
  },
  {
   "cell_type": "markdown",
   "metadata": {},
   "source": [
    "<br>\n",
    "<div align='center'>\n",
    "    <figure>\n",
    "    <img src=\"https://raw.githubusercontent.com/vporubsky/tellurium-libroadrunner-tutorial/master/tellurium-utilities.png\" width=\"75%\" style=\"padding: 20px\">\n",
    "        <figcaption>Tellurium is an integrated modeling environment which makes available libraries to support biochemical model building and simulation. Reproduced from [cite Tellurium paper/docs].</figcaption>\n",
    "    </figure>\n",
    "</div>"
   ]
  },
  {
   "cell_type": "markdown",
   "metadata": {},
   "source": [
    "## How does numerical simulation help us model network kinetics?\n",
    "\n",
    "<ul>\n",
    "  <li>Provides a method to approximate analytical solutions for complex (often non-linear) systems</li>\n",
    "  <li>Kinetic laws describe the rates of change of species in the system, which can be modeled mathematically</li>\n",
    "  <li>For a sufficiently large network, simulators must be efficient and perform rapid numerical integration</li>\n",
    "</ul>\n",
    "\n",
    "## How is numerical integration performed?\n",
    "\n",
    "<ul>\n",
    "  <li>Requires differential equations describing the model, constant values, and initial conditions for all variables which are evolving in time</li>\n",
    "  <li>Numerical integration algorithms assume local linearity, and use tangent lines over small step sizes to gradually approximate the solution, starting from some initial value</li>\n",
    "  <li>Euler's method can be examined as a simple example</li>\n",
    "</ul>"
   ]
  },
  {
   "cell_type": "code",
   "execution_count": null,
   "metadata": {},
   "outputs": [],
   "source": [
    "# First, install Tellurium, which comes with libRoadRunner \n",
    "!pip install tellurium"
   ]
  },
  {
   "cell_type": "code",
   "execution_count": null,
   "metadata": {},
   "outputs": [],
   "source": [
    "import tellurium as te # Python-based modeling environment for kinetic models\n",
    "import roadrunner as rr # High-performance simulation and analysis library\n",
    "import numpy as np # Scientific computing package\n",
    "import random # Generate random numbers \n",
    "import matplotlib.pylab as plt # Additional Python plotting utilities"
   ]
  },
  {
   "cell_type": "markdown",
   "metadata": {},
   "source": [
    "## Simulating the simple Antimony model"
   ]
  },
  {
   "cell_type": "code",
   "execution_count": null,
   "metadata": {},
   "outputs": [],
   "source": [
    "Ant_str = \"\"\"\n",
    "model test               # name the model\n",
    "    compartment C1;      # specify compartments\n",
    "    C1 = 1.0;            # assign compartment volume\n",
    "    species S1, S2;      # specify species\n",
    "    S1 in C1; S2 in C1;  # allocate species to appropriate compartment\n",
    "\n",
    " \n",
    "    J1: S1 -> S2; k1*S1; # reaction; reaction rate law;\n",
    "    \n",
    "    S1 = 10.0;           # assign species initial conditions\n",
    "    S2 = 0.0;\n",
    "\n",
    "    k1 = 1.0;            # assign constant values to global parameters\n",
    "end\n",
    "\"\"\"\n",
    "\n",
    "r = te.loada(Ant_str)  # create an executable model by loading the string to a RoadRunner object instance\n",
    "result = r.simulate(0, 10, 25) # simulate(time_start, time_end, number_of_points)\n",
    "print(result)"
   ]
  },
  {
   "cell_type": "markdown",
   "metadata": {},
   "source": [
    "## Plotting the simple Antimony model"
   ]
  },
  {
   "cell_type": "code",
   "execution_count": null,
   "metadata": {},
   "outputs": [],
   "source": [
    "r.plot(title = 'Uni-uni mass-action model', xtitle = 'Time', ytitle = 'Concentration', figsize = (8, 6)) "
   ]
  },
  {
   "cell_type": "markdown",
   "metadata": {},
   "source": [
    "## Writing a simulation with events"
   ]
  },
  {
   "cell_type": "code",
   "execution_count": null,
   "metadata": {},
   "outputs": [],
   "source": [
    "Ant_str = \"\"\"\n",
    "model test               # name the model\n",
    "    J1: S1 -> S2; k1*S1; # reaction; reaction rate law;\n",
    "    \n",
    "    S1 = 10.0;           # assign species initial conditions\n",
    "    S2 = 0.0;\n",
    "\n",
    "    k1 = 1.0;            # assign constant values to global parameters\n",
    "    E1: at (time > 5): S1 = 10; # add an event - spike in S1\n",
    "end\n",
    "\"\"\"\n",
    "r = te.loada(Ant_str)  # create an executable model by loading the string to a RoadRunner object instance\n",
    "r.simulate(0, 10, 100) # simulate(time_start, time_end, number_of_points)\n",
    "r.plot(title = 'Uni-uni mass-action model with event', xtitle = 'Time', ytitle = 'Concentration', figsize = (8, 6)) \n",
    "\n"
   ]
  },
  {
   "cell_type": "markdown",
   "metadata": {},
   "source": [
    "## Simulating a complex model with interesting dynamics"
   ]
  },
  {
   "cell_type": "code",
   "execution_count": null,
   "metadata": {},
   "outputs": [],
   "source": [
    "repressilator_str = \"\"\"\n",
    "# Compartments and Species:\n",
    "species M1, P3, P1, M2, P2, M3;\n",
    "\n",
    "# Reactions:\n",
    "J0:  -> M1; a_m1*(Kr_P3^n1/(Kr_P3^n1 + P3^n1)) + leak1;\n",
    "J1: M1 -> ; d_m1*M1;\n",
    "J2:  -> P1; a_p1*M1;\n",
    "J3: P1 -> ; d_p1*P1;\n",
    "J4:  -> M2; a_m2*(Kr_P1^n2/(Kr_P1^n2 + P1^n2)) + leak2;\n",
    "J5: M2 -> ; d_m2*M2;\n",
    "J6:  -> P2; a_p2*M2;\n",
    "J7: P2 -> ; d_p2*P2;\n",
    "J8:  -> M3; a_m3*(Kr_P2^n3/(Kr_P2^n3 + P2^n3)) + leak3;\n",
    "J9: M3 -> ; d_m3*M3;\n",
    "J10:  -> P3; a_p3*M3;\n",
    "J11: P3 -> ; d_p3*P3;\n",
    "\n",
    "# Species initializations:\n",
    "M1 = 0.604016261711246;\n",
    "P3 = 1.10433330559171;\n",
    "P1 = 7.94746428021418;\n",
    "M2 = 2.16464969760648;\n",
    "P2 = 3.55413750091507;\n",
    "M3 = 2.20471854765531;\n",
    "\n",
    "# Variable initializations:\n",
    "a_m1 = 1.13504504342841;\n",
    "Kr_P3 = 0.537411795656332;\n",
    "n1 = 7.75907326833983;\n",
    "leak1 = 2.59839004225795e-07;\n",
    "d_m1 = 0.360168301619141;\n",
    "a_p1 = 5.91755684808254;\n",
    "d_p1 = 1.11075218613419;\n",
    "a_m2 = 2.57306185467814;\n",
    "Kr_P1 = 0.190085253528206;\n",
    "n2 = 6.89140262856765;\n",
    "leak2 = 1.51282707494481e-06;\n",
    "d_m2 = 1.05773721506759;\n",
    "a_p2 = 8.35628834784826;\n",
    "d_p2 = 0.520562081730298;\n",
    "a_m3 = 0.417889543691157;\n",
    "Kr_P2 = 2.71031378955001;\n",
    "n3 = 0.44365980532785;\n",
    "leak3 = 3.63586125130783e-11;\n",
    "d_m3 = 0.805873530762994;\n",
    "a_p3 = 4.61276807677109;\n",
    "d_p3 = 1.54954108126666;\n",
    "\n",
    "\"\"\"\n",
    "\n",
    "repressilator = te.loada(repressilator_str)\n",
    "repressilator.simulate(0, 100, 500)\n",
    "repressilator.plot(figsize = (10, 8), linewidth = 3)"
   ]
  },
  {
   "cell_type": "markdown",
   "metadata": {},
   "source": [
    "## Simulating a complex model of a true biological system\n",
    "\n",
    "Using the model describe in Chapter X, we will demonstrate both deterministic and stochastic simulation studies."
   ]
  },
  {
   "cell_type": "code",
   "execution_count": null,
   "metadata": {},
   "outputs": [],
   "source": [
    "antimony_str = \"\"\"\n",
    "model sars_cov2_infection\n",
    "\n",
    "// Define model equations\n",
    "production_genomic_ssRNA:               -> gen_ssRNA;   k1*rep_ssRNA\n",
    "transcription_genomic_ssRNA:  gen_ssRNA -> rep_ssRNA;   k2*gen_ssRNA\n",
    "translation_of_viral_envelope:          -> envelope;    k3*rep_ssRNA\n",
    "degradation_of_ssRNA:         rep_ssRNA -> ;            k4*rep_ssRNA\n",
    "degradation_of_envelope:       envelope -> ;            k5*envelope\n",
    "formation_of_free_virus_complex: gen_ssRNA + envelope -> virus_free;  k6*gen_ssRNA*envelope\n",
    "binding_of_virus_complex_to_host:  virus_free + $ACE2 -> virus_bound; k7*virus_free*ACE2\n",
    "\n",
    "// Annotate reactions\n",
    "transcription_genomic_ssRNA.sboTerm = SBO:0000183\n",
    "translation_of_viral_envelope.sboTerm = SBO:0000184\n",
    "\n",
    "// Set global constants\n",
    "k1 = 0.968; k2 = 0.025;\n",
    "k3 = 1000; k4 = 0.222\n",
    "k5 = 2; k6 = 7.5E-6\n",
    "k7 = 0.112 \n",
    "\n",
    "// Annotate kinetic constant distribution information\n",
    "# k1.confidenceInterval = {0.883, 0.892}\n",
    "# k4.confidenceInterval = {0.184, 0.186}\n",
    "\n",
    "// Set initial conditions\n",
    "rep_ssRNA = 1; gen_ssRNA = 0;\n",
    "envelope = 0; ACE2 = 100;\n",
    "virus_free = 0; virus_bound = 0;\n",
    "\n",
    "end\n",
    "\"\"\""
   ]
  },
  {
   "cell_type": "code",
   "execution_count": null,
   "metadata": {},
   "outputs": [],
   "source": [
    "import tellurium as te\n",
    "import matplotlib.pyplot as plt\n",
    "plt.style.use('ggplot')\n",
    "\n",
    "# Load the model string into a RoadRunner object instance\n",
    "model = te.loada(antimony_str)\n",
    "\n",
    "# Generate deterministic results using CVODE\n",
    "det_results = model.simulate (0, 200, 100, ['time', 'gen_ssRNA'])\n",
    "\n",
    "# Set a seed value for reproducible stochastic output\n",
    "model.seed = 124\n",
    "\n",
    "plt.figure(2)\n",
    "for i in range(10):\n",
    "    # Reset variable concentrations to initial conditions\n",
    "    model.reset()\n",
    "    # Generate stochastic results using Gillespie's algorithm\n",
    "    stoch_results = model.gillespie (0, 200, 100, ['time', 'gen_ssRNA'])\n",
    "    # Plot stochastic simulation trajectory\n",
    "    plt.plot(stoch_results['time'], stoch_results['gen_ssRNA'], linewidth=4, alpha=0.4)\n",
    "\n",
    "# Plot deterministic results\n",
    "plt.plot(det_results['time'], det_results['gen_ssRNA'], color='black', linewidth=2,)\n",
    "plt.xlabel('Time')\n",
    "plt.ylabel('[gen_ssRNA]')\n",
    "\n",
    "# Save figure for Docker implementation and show\n",
    "# plt.savefig('curated_k7_sars_cov2_infection_simulation.jpg', dpi = 300)\n",
    "plt.show()\n",
    "\n",
    "print(f'\\nTimeseries of gen_ssRNA using fitted values for k1 and k4, and curated data for k7:')\n",
    "print(det_results)\n"
   ]
  },
  {
   "cell_type": "markdown",
   "metadata": {},
   "source": [
    "<br>\n",
    "<html>\n",
    "   <head>\n",
    "      <title>Bibliography</title>\n",
    "   </head>\n",
    "   <body>\n",
    "      <h1>Bibliography</h1>\n",
    "      <ol>\n",
    "         <li>\n",
    "            <p>K. Choi et al., <cite>Tellurium: An extensible python-based modeling environment for systems and synthetic biology</cite>, Biosystems, vol. 171, pp. 74–79, Sep. 2018.</p>\n",
    "         </li>\n",
    "         <li>\n",
    "            <p>E. T. Somogyi et al., <cite>libRoadRunner: a high performance SBML simulation and analysis library.,</cite>, Bioinformatics, vol. 31, no. 20, pp. 3315–21, Oct. 2015.</p>         \n",
    "          <li>\n",
    "            <p>L. P. Smith, F. T. Bergmann, D. Chandran, and H. M. Sauro, <cite>Antimony: a modular model definition language</cite>, Bioinformatics, vol. 25, no. 18, pp. 2452–2454, Sep. 2009.</p>\n",
    "         </li>\n",
    "         <li>\n",
    "            <p>K. Choi, L. P. Smith, J. K. Medley, and H. M. Sauro, <cite>phraSED-ML: a paraphrased, human-readable adaptation of SED-ML</cite>, J. Bioinform. Comput. Biol., vol. 14, no. 06, Dec. 2016.</p>\n",
    "         </li>\n",
    "         <li>\n",
    "            <p>J. Wolf, H. Y. Sohn, R. Heinrich, and H. Kuriyama, <cite>Mathematical analysis of a mechanism for autonomous metabolic oscillations in continuous culture of Saccharomyces cerevisiae</cite>, FEBS Lett., vol. 499, no. 3, pp. 230–234, Jun. 2001.</p>\n",
    "         </li>\n",
    "      </ol>\n",
    "   </body>\n",
    "</html>"
   ]
  }
 ],
 "metadata": {
  "kernelspec": {
   "display_name": "Python 3",
   "language": "python",
   "name": "python3"
  },
  "language_info": {
   "codemirror_mode": {
    "name": "ipython",
    "version": 3
   },
   "file_extension": ".py",
   "mimetype": "text/x-python",
   "name": "python",
   "nbconvert_exporter": "python",
   "pygments_lexer": "ipython3",
   "version": "3.7.6"
  }
 },
 "nbformat": 4,
 "nbformat_minor": 4
}
