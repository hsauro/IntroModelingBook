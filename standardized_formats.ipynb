{
 "cells": [
  {
   "cell_type": "markdown",
   "metadata": {},
   "source": [
    "# Chapter X: SBML, SED-ML, and the COMBINE archive: standard formats supported in Tellurium "
   ]
  },
  {
   "cell_type": "markdown",
   "metadata": {},
   "source": [
    "## Import and export capabilities with Tellurium\n",
    "<br>\n",
    "Models can be imported from the BioModels Database, given the appropriate BioModel ID. However, due to a firewall on nanoHUB, we are unable to perform this import. Instead, upload BIOMD0000000090.xml to your Tellurium tool on nanoHUB.\n",
    "\n",
    "This is a model of respiratory oscillations in Saccharomyces cerevisae by <a href=\"https://www.ebi.ac.uk/biomodels/BIOMD0000000090\">Jana Wolf et al. (2001):</a> </div>\n",
    "<br>\n",
    "\n",
    "<div align='center'><img src=\"https://raw.githubusercontent.com/vporubsky/tellurium-libroadrunner-tutorial/master/wolf_publication.PNG\" width=\"65%\" style=\"padding: 20px\"></div>\n",
    "<br>\n",
    "<div align='center'><img src=\"https://raw.githubusercontent.com/vporubsky/tellurium-libroadrunner-tutorial/master/wolf_network.PNG\" width=\"65%\" style=\"padding: 20px\"></div>"
   ]
  },
  {
   "cell_type": "code",
   "execution_count": null,
   "metadata": {},
   "outputs": [],
   "source": [
    "#%% You can load an SBML model directly from the BioModels Database, given the BioModel ID\n",
    "# wolf = te.loadSBMLModel(\"http://www.ebi.ac.uk/biomodels-main/download?mid=BIOMD0000000090\")\n",
    "wolf = te.loadSBMLModel(\"BIOMD0000000090.xml\")\n",
    "wolf.simulate(0, 100, 1000, ['time', 'oxy']) # note that specific species can be selected for recording concentrations over the timecourse\n",
    "wolf.plot(figsize = (10, 6), xtitle = 'Time', ytitle = 'Concentration')\n",
    " "
   ]
  },
  {
   "cell_type": "code",
   "execution_count": null,
   "metadata": {},
   "outputs": [],
   "source": [
    "# Export the model you just accessed from BioModels to the current directory as an Antimony string\n",
    "wolf.reset()\n",
    "print(wolf.getFloatingSpeciesConcentrationIds())\n",
    "wolf.exportToAntimony('wolf.txt', current = True) "
   ]
  },
  {
   "cell_type": "markdown",
   "metadata": {},
   "source": [
    "<br>\n",
    "<html>\n",
    "   <head>\n",
    "      <title>Bibliography</title>\n",
    "   </head>\n",
    "   <body>\n",
    "      <h1>Bibliography</h1>\n",
    "      <ol>\n",
    "         <li>\n",
    "            <p>K. Choi et al., <cite>Tellurium: An extensible python-based modeling environment for systems and synthetic biology</cite>, Biosystems, vol. 171, pp. 74–79, Sep. 2018.</p>\n",
    "         </li>\n",
    "         <li>\n",
    "            <p>E. T. Somogyi et al., <cite>libRoadRunner: a high performance SBML simulation and analysis library.,</cite>, Bioinformatics, vol. 31, no. 20, pp. 3315–21, Oct. 2015.</p>         \n",
    "          <li>\n",
    "            <p>L. P. Smith, F. T. Bergmann, D. Chandran, and H. M. Sauro, <cite>Antimony: a modular model definition language</cite>, Bioinformatics, vol. 25, no. 18, pp. 2452–2454, Sep. 2009.</p>\n",
    "         </li>\n",
    "         <li>\n",
    "            <p>K. Choi, L. P. Smith, J. K. Medley, and H. M. Sauro, <cite>phraSED-ML: a paraphrased, human-readable adaptation of SED-ML</cite>, J. Bioinform. Comput. Biol., vol. 14, no. 06, Dec. 2016.</p>\n",
    "         </li>\n",
    "         <li>\n",
    "            <p>J. Wolf, H. Y. Sohn, R. Heinrich, and H. Kuriyama, <cite>Mathematical analysis of a mechanism for autonomous metabolic oscillations in continuous culture of Saccharomyces cerevisiae</cite>, FEBS Lett., vol. 499, no. 3, pp. 230–234, Jun. 2001.</p>\n",
    "         </li>\n",
    "      </ol>\n",
    "   </body>\n",
    "</html>"
   ]
  }
 ],
 "metadata": {
  "kernelspec": {
   "display_name": "Python 3",
   "language": "python",
   "name": "python3"
  },
  "language_info": {
   "codemirror_mode": {
    "name": "ipython",
    "version": 3
   },
   "file_extension": ".py",
   "mimetype": "text/x-python",
   "name": "python",
   "nbconvert_exporter": "python",
   "pygments_lexer": "ipython3",
   "version": "3.7.6"
  }
 },
 "nbformat": 4,
 "nbformat_minor": 4
}
